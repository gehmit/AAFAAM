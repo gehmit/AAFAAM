{
 "cells": [
  {
   "cell_type": "code",
   "execution_count": null,
   "id": "d175a9ce",
   "metadata": {},
   "outputs": [],
   "source": [
    "!pip install numpy pandas scikit-learn"
   ]
  },
  {
   "cell_type": "code",
   "execution_count": 1,
   "id": "a06459c5",
   "metadata": {},
   "outputs": [],
   "source": [
    "import numpy as np\n",
    "from sklearn.linear_model import LogisticRegression\n",
    "from sklearn.datasets import load_breast_cancer\n",
    "from sklearn.metrics import accuracy_score\n",
    "from sklearn.preprocessing import StandardScaler\n",
    "from sklearn.model_selection import train_test_split\n"
   ]
  },
  {
   "cell_type": "code",
   "execution_count": 2,
   "id": "935c4457",
   "metadata": {},
   "outputs": [],
   "source": [
    "\n",
    "# Charger et préparer les données\n",
    "data = load_breast_cancer()\n",
    "X, y = data.data, data.target\n",
    "X = StandardScaler().fit_transform(X)\n",
    "\n"
   ]
  },
  {
   "cell_type": "code",
   "execution_count": 7,
   "id": "61d44f41",
   "metadata": {},
   "outputs": [],
   "source": [
    "\n",
    "# Split entre les clients (par exemple 3 hôpitaux)\n",
    "num_clients = 3\n",
    "client_data = np.array_split(X, num_clients)\n",
    "client_labels = np.array_split(y, num_clients)\n",
    "\n",
    "# Fonction pour entraîner un modèle local\n",
    "def train_local_model(X_local, y_local):\n",
    "    model = LogisticRegression(solver='lbfgs', max_iter=1000)\n",
    "    model.fit(X_local, y_local)\n",
    "    return model.coef_.flatten(), model.intercept_\n",
    "\n",
    "# Confidentialité différentielle : bruit gaussien\n",
    "def add_noise(coef, intercept, epsilon=1.0):\n",
    "    noise_coef = np.random.normal(0, 1/epsilon, size=coef.shape)\n",
    "    print(f\"Noise Coef : {noise_coef[:5]}\")\n",
    "    print(f\"True Coef : {coef[:5]}\")\n",
    "    print(f\"Combined Coef : {coef[:5] + noise_coef[:5]}\")\n",
    "    print(\"-\"*10)\n",
    "    noise_intercept = np.random.normal(0, 1/epsilon, size=intercept.shape)\n",
    "    return coef + noise_coef, intercept + noise_intercept\n",
    "\n",
    "\n"
   ]
  },
  {
   "cell_type": "code",
   "execution_count": 8,
   "id": "55f1e377",
   "metadata": {},
   "outputs": [
    {
     "name": "stdout",
     "output_type": "stream",
     "text": [
      "Noise Coef : [-0.13714571  0.25421288 -0.14915752  0.12131373  0.02349403]\n",
      "True Coef : [-0.3531813  -1.13580171 -0.39771313 -0.35209543 -0.07371329]\n",
      "Combined Coef : [-0.49032702 -0.88158883 -0.54687065 -0.2307817  -0.05021926]\n",
      "----------\n",
      "Noise Coef : [-0.25518202 -0.24501462 -0.21433774 -0.01431957 -0.06599607]\n",
      "True Coef : [-0.47764494 -0.22021727 -0.45665274 -0.53151359 -0.42448044]\n",
      "Combined Coef : [-0.73282696 -0.46523189 -0.67099048 -0.54583316 -0.49047652]\n",
      "----------\n",
      "Noise Coef : [-0.12783895 -0.1269319   0.17132163  0.07768419 -0.23646028]\n",
      "True Coef : [-0.62753621 -0.39513745 -0.58749913 -0.57637334 -0.14887469]\n",
      "Combined Coef : [-0.75537516 -0.52206934 -0.41617751 -0.49868915 -0.38533497]\n",
      "----------\n"
     ]
    }
   ],
   "source": [
    "# ========== Entraînement AVEC bruit (DP) ==========\n",
    "coefs, intercepts = [], []\n",
    "for i in range(num_clients):\n",
    "    coef, intercept = train_local_model(client_data[i], client_labels[i])\n",
    "    noisy_coef, noisy_intercept = add_noise(coef, intercept, epsilon=5.0)\n",
    "    coefs.append(noisy_coef)\n",
    "    intercepts.append(noisy_intercept)\n",
    "\n",
    "global_coef = np.mean(coefs, axis=0)\n",
    "global_intercept = np.mean(intercepts, axis=0)"
   ]
  },
  {
   "cell_type": "code",
   "execution_count": 9,
   "id": "de0fd75e",
   "metadata": {},
   "outputs": [],
   "source": [
    "\n",
    "# ========== Entraînement SANS bruit (référence) ==========\n",
    "true_coefs, true_intercepts = [], []\n",
    "for i in range(num_clients):\n",
    "    coef, intercept = train_local_model(client_data[i], client_labels[i])\n",
    "    true_coefs.append(coef)\n",
    "    true_intercepts.append(intercept)\n",
    "\n",
    "true_global_coef = np.mean(true_coefs, axis=0)\n",
    "true_global_intercept = np.mean(true_intercepts, axis=0)\n",
    "\n",
    "# ========== Évaluation ==========\n",
    "X_train, X_test, y_train, y_test = train_test_split(X, y, test_size=0.2, random_state=42)\n"
   ]
  },
  {
   "cell_type": "code",
   "execution_count": 10,
   "id": "f5d53181",
   "metadata": {},
   "outputs": [
    {
     "name": "stdout",
     "output_type": "stream",
     "text": [
      "🔐 Accuracy du modèle global avec DP : 0.9825\n"
     ]
    }
   ],
   "source": [
    "\n",
    "# Modèle AVEC DP\n",
    "final_model = LogisticRegression()\n",
    "final_model.coef_ = global_coef.reshape(1, -1)\n",
    "final_model.intercept_ = global_intercept\n",
    "final_model.classes_ = np.array([0, 1])\n",
    "y_pred = final_model.predict(X_test)\n",
    "acc = accuracy_score(y_test, y_pred)\n",
    "print(f\"🔐 Accuracy du modèle global avec DP : {acc:.4f}\")\n",
    "\n"
   ]
  },
  {
   "cell_type": "code",
   "execution_count": 11,
   "id": "93a2de9a",
   "metadata": {},
   "outputs": [
    {
     "name": "stdout",
     "output_type": "stream",
     "text": [
      "📊 Accuracy du modèle global SANS DP : 0.9737\n"
     ]
    }
   ],
   "source": [
    "# Modèle SANS DP (vrai modèle agrégé)\n",
    "true_model = LogisticRegression()\n",
    "true_model.coef_ = true_global_coef.reshape(1, -1)\n",
    "true_model.intercept_ = true_global_intercept\n",
    "true_model.classes_ = np.array([0, 1])\n",
    "y_pred_true = true_model.predict(X_test)\n",
    "acc_true = accuracy_score(y_test, y_pred_true)\n",
    "print(f\"📊 Accuracy du modèle global SANS DP : {acc_true:.4f}\")\n"
   ]
  },
  {
   "cell_type": "code",
   "execution_count": 12,
   "id": "ed1c39b1",
   "metadata": {},
   "outputs": [
    {
     "name": "stdout",
     "output_type": "stream",
     "text": [
      "\n",
      "--- Comparaison des coefficients ---\n",
      "➡️ Moyenne des coefficients réels (sans DP):\n",
      "[-0.48612081 -0.58371881 -0.48062167 -0.48666079 -0.21568948  0.08509568\n",
      " -0.57557527 -0.60684666  0.0322042   0.27416076 -0.73869177  0.00558824\n",
      " -0.58934347 -0.56161302  0.00698184  0.48567459 -0.02366443 -0.21991231\n",
      "  0.26316175  0.47641164 -0.72174403 -0.87384852 -0.67874896 -0.67356547\n",
      " -0.52775687 -0.13082811 -0.56660293 -0.64182127 -0.60071142 -0.24330265]\n",
      "\n",
      "🔒 Moyenne des coefficients avec DP (bruit ajouté):\n",
      "[-0.65950971 -0.62296336 -0.54467954 -0.42510134 -0.30867692  0.04743952\n",
      " -0.53651933 -0.38155152 -0.02593978  0.30777614 -0.53330273  0.04559644\n",
      " -0.57062199 -0.5426478   0.0185569   0.50778574  0.0148504  -0.13538709\n",
      "  0.17841273  0.4806916  -0.93429592 -0.89825142 -0.84482828 -0.63967962\n",
      " -0.50221853  0.11509009 -0.48968553 -0.67367919 -0.76950242 -0.2900192 ]\n"
     ]
    }
   ],
   "source": [
    "\n",
    "# ========== Comparaison des coefficients ==========\n",
    "print(\"\\n--- Comparaison des coefficients ---\")\n",
    "print(\"➡️ Moyenne des coefficients réels (sans DP):\")\n",
    "print(true_global_coef)\n",
    "print(\"\\n🔒 Moyenne des coefficients avec DP (bruit ajouté):\")\n",
    "print(global_coef)\n",
    "\n"
   ]
  },
  {
   "cell_type": "code",
   "execution_count": 13,
   "id": "d9c1f119",
   "metadata": {},
   "outputs": [
    {
     "name": "stdout",
     "output_type": "stream",
     "text": [
      "\n",
      "📉 Écart absolu moyen entre les coefficients :\n",
      "0.07955011271417572\n"
     ]
    }
   ],
   "source": [
    "# Différence absolue moyenne\n",
    "coef_diff = np.abs(global_coef - true_global_coef)\n",
    "print(\"\\n📉 Écart absolu moyen entre les coefficients :\")\n",
    "print(np.mean(coef_diff))"
   ]
  }
 ],
 "metadata": {
  "kernelspec": {
   "display_name": ".venv",
   "language": "python",
   "name": "python3"
  },
  "language_info": {
   "codemirror_mode": {
    "name": "ipython",
    "version": 3
   },
   "file_extension": ".py",
   "mimetype": "text/x-python",
   "name": "python",
   "nbconvert_exporter": "python",
   "pygments_lexer": "ipython3",
   "version": "3.12.3"
  }
 },
 "nbformat": 4,
 "nbformat_minor": 5
}
