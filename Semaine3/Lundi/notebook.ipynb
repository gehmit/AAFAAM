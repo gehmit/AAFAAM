{
 "cells": [
  {
   "cell_type": "code",
   "execution_count": null,
   "id": "643641fd",
   "metadata": {},
   "outputs": [],
   "source": [
    "!pip install pandas numpy seaborn  datasets"
   ]
  },
  {
   "cell_type": "markdown",
   "id": "50c516c0",
   "metadata": {},
   "source": [
    "### Installation des bibliothèques nécessaires (à exécuter une seule fois)\n"
   ]
  },
  {
   "cell_type": "markdown",
   "id": "39fd6219",
   "metadata": {},
   "source": [
    "#### Importation des bibliothèques nécessaires\n"
   ]
  },
  {
   "cell_type": "code",
   "execution_count": null,
   "id": "8eac2c84",
   "metadata": {},
   "outputs": [],
   "source": [
    "import pandas as pd\n",
    "import seaborn as sns\n",
    "import matplotlib.pyplot as plt\n",
    "from datasets import load_dataset\n",
    "import os "
   ]
  },
  {
   "cell_type": "code",
   "execution_count": 1,
   "id": "ec10d030",
   "metadata": {},
   "outputs": [],
   "source": [
    "import os "
   ]
  },
  {
   "cell_type": "code",
   "execution_count": 6,
   "id": "40c65b8f",
   "metadata": {},
   "outputs": [],
   "source": [
    "chemin = 'data'\n",
    "if not os.path.exists(chemin):\n",
    "    os.makedirs(chemin)"
   ]
  },
  {
   "cell_type": "code",
   "execution_count": null,
   "id": "da7273cd",
   "metadata": {},
   "outputs": [],
   "source": [
    "dataset = load_dataset(\"SaladSlayer00/ehr_nigeria_cancer\")\n",
    "train_set = dataset['train']\n",
    "validation_set = dataset['validation']\n",
    "test_set = dataset['test']"
   ]
  },
  {
   "cell_type": "code",
   "execution_count": null,
   "id": "e6aeed05",
   "metadata": {},
   "outputs": [],
   "source": [
    "train_set.to_csv('data/train.csv', index=False)\n",
    "validation_set.to_csv('data/validation.csv', index=False)\n",
    "test_set.to_csv('data/test.csv', index=False)"
   ]
  },
  {
   "cell_type": "code",
   "execution_count": null,
   "id": "f75aa144",
   "metadata": {},
   "outputs": [],
   "source": [
    "\n",
    "# Chargement des données à partir d'un fichier CSV\n",
    "df = pd.read_csv(\"data/train.csv\")"
   ]
  },
  {
   "cell_type": "code",
   "execution_count": null,
   "id": "ac5a1ab6",
   "metadata": {},
   "outputs": [],
   "source": [
    "df.head()"
   ]
  },
  {
   "cell_type": "code",
   "execution_count": null,
   "id": "1acd2bea",
   "metadata": {},
   "outputs": [],
   "source": [
    "df.info()"
   ]
  },
  {
   "cell_type": "code",
   "execution_count": null,
   "id": "590d2417",
   "metadata": {},
   "outputs": [],
   "source": [
    "df.describe"
   ]
  },
  {
   "cell_type": "code",
   "execution_count": null,
   "id": "d52755ce",
   "metadata": {},
   "outputs": [],
   "source": [
    "\n",
    "\n",
    "# 1.1 Consistance des formats — Dates\n",
    "# Conversion des colonnes de dates en format datetime pour une manipulation plus facile\n",
    "df['Date_of_incidence'] = pd.to_datetime(df['Date_of_incidence'], errors='coerce')\n",
    "df['Date_last_checked'] = pd.to_datetime(df['Date_last_checked'], errors='coerce')\n"
   ]
  },
  {
   "cell_type": "code",
   "execution_count": null,
   "id": "c9937bbc",
   "metadata": {},
   "outputs": [],
   "source": [
    "\n",
    "# 1.2 Consistance des formats — Textes\n",
    "# Liste des colonnes textuelles à nettoyer\n",
    "text_cols = ['Religion', 'Status', 'Marital_status', 'Education', 'Diagnosis', 'Treatment']\n",
    "\n",
    "# Nettoyage des colonnes textuelles : suppression des espaces et conversion en minuscules\n",
    "for col in text_cols:\n",
    "    df[col] = df[col].astype(str).str.strip().str.lower()\n",
    "\n",
    "\n",
    "\n",
    "    "
   ]
  },
  {
   "cell_type": "code",
   "execution_count": null,
   "id": "f2438c18",
   "metadata": {},
   "outputs": [],
   "source": [
    "\n",
    "\n",
    "# 1.3 Présence d’outliers — Âge\n",
    "# Identification des valeurs d'âge aberrantes (négatives ou supérieures à 120 ans)\n",
    "print(\"Valeurs d'âge aberrantes :\")\n",
    "print(df[(df['Age'] < 0) | (df['Age'] > 120)][['Age']])\n"
   ]
  },
  {
   "cell_type": "code",
   "execution_count": null,
   "id": "3c183a39",
   "metadata": {},
   "outputs": [],
   "source": [
    "\n",
    "# 1.4 Dates incohérentes : suivi avant l’incidence\n",
    "# Calcul de la différence en jours entre Date_last_checked et Date_of_incidence\n",
    "df['date_diff'] = (df['Date_last_checked'] - df['Date_of_incidence']).dt.days\n",
    "\n",
    "\n",
    "# Identification des lignes où Date_last_checked est antérieure à Date_of_incidence\n",
    "print(\"\\nLignes où Date_last_checked < Date_of_incidence :\")\n",
    "print(df[df['date_diff'] < 0][['Date_of_incidence', 'Date_last_checked', 'date_diff']])\n"
   ]
  },
  {
   "cell_type": "code",
   "execution_count": null,
   "id": "c1d4c939",
   "metadata": {},
   "outputs": [],
   "source": [
    "\n",
    "# 1.5 Dead mais Date_last_checked très éloignée dans le futur (ex: +3 ans)\n",
    "# Création d'un masque pour les patients décédés\n",
    "dead_mask = df['Status'] == 'dead'\n",
    "# Conversion de la différence en jours en années\n",
    "df['years_diff'] = df['date_diff'] / 365.25"
   ]
  },
  {
   "cell_type": "code",
   "execution_count": null,
   "id": "28ec670f",
   "metadata": {},
   "outputs": [],
   "source": [
    "\n",
    "# Identification des patients décédés avec une date de suivi supérieure à 3 ans\n",
    "print(\"\\nPatients morts avec date de suivi > 3 ans :\")\n",
    "print(df[dead_mask & (df['years_diff'] > 3)][['Date_of_incidence', 'Date_last_checked', 'years_diff']])\n",
    "\n"
   ]
  },
  {
   "cell_type": "code",
   "execution_count": null,
   "id": "bf015113",
   "metadata": {},
   "outputs": [],
   "source": [
    "# 1.6 Cas où 'Treatment' est 'unknown' mais 'Diagnosis' est rempli\n",
    "# Identification des cas où le traitement est 'unknown' mais un diagnostic est connu\n",
    "print(\"\\nCas avec traitement 'unknown' mais un diagnostic connu :\")\n",
    "print(df[(df['Treatment'] == 'unknown') & (df['Diagnosis'].notnull()) & (df['Diagnosis'] != 'unknown')][['Diagnosis', 'Treatment']])\n"
   ]
  },
  {
   "cell_type": "code",
   "execution_count": null,
   "id": "b59de115",
   "metadata": {},
   "outputs": [],
   "source": [
    "\n",
    "\n",
    "# Conversion des colonnes de dates en format datetime pour une manipulation plus facile\n",
    "df['Date_of_incidence'] = pd.to_datetime(df['Date_of_incidence'], errors='coerce')\n",
    "df['Date_last_checked'] = pd.to_datetime(df['Date_last_checked'], errors='coerce')\n",
    "\n",
    "\n"
   ]
  },
  {
   "cell_type": "code",
   "execution_count": null,
   "id": "366bab60",
   "metadata": {},
   "outputs": [],
   "source": [
    "\n",
    "# 2.1 Âge\n",
    "# Résumé statistique de l'âge\n",
    "print(\"Résumé statistique de l'âge :\")\n",
    "print(df['Age'].describe())\n",
    "\n",
    "# Visualisation de la distribution de l'âge\n",
    "plt.figure(figsize=(10,4))\n",
    "sns.histplot(df['Age'], kde=True, bins=30, color='skyblue')\n",
    "plt.title(\"Distribution de l'âge\")\n",
    "plt.xlabel(\"Âge\")\n",
    "plt.show()"
   ]
  },
  {
   "cell_type": "code",
   "execution_count": null,
   "id": "93992d37",
   "metadata": {},
   "outputs": [],
   "source": [
    "\n",
    "# 2.2 Tribu\n",
    "# Fréquence des tribus\n",
    "print(\"\\nFréquence des tribus :\")\n",
    "print(df['Tribe'].value_counts())\n",
    "\n",
    "# Visualisation de la répartition par tribu\n",
    "sns.countplot(data=df, y='Tribe', order=df['Tribe'].value_counts().index)\n",
    "plt.title(\"Répartition par tribu\")\n",
    "plt.show()\n"
   ]
  },
  {
   "cell_type": "code",
   "execution_count": null,
   "id": "6f1113e6",
   "metadata": {},
   "outputs": [],
   "source": [
    "\n",
    "\n",
    "# 2.3 Statut vital\n",
    "# Proportion vivant / décédé\n",
    "print(\"\\nProportion vivant / décédé :\")\n",
    "print(df['Status'].value_counts(normalize=True))\n",
    "\n",
    "# Visualisation du statut vital\n",
    "sns.countplot(data=df, x='Status')\n",
    "plt.title(\"Statut vital\")\n",
    "plt.show()"
   ]
  },
  {
   "cell_type": "code",
   "execution_count": null,
   "id": "4a030e8c",
   "metadata": {},
   "outputs": [],
   "source": [
    "\n",
    "\n",
    "# 2.4 Traitement\n",
    "# Types de traitements\n",
    "print(\"\\nTypes de traitements :\")\n",
    "print(df['Treatment'].value_counts())\n",
    "\n",
    "# Visualisation des types de traitement\n",
    "sns.countplot(data=df, y='Treatment', order=df['Treatment'].value_counts().index)\n",
    "plt.title(\"Types de traitement\")\n",
    "plt.show()"
   ]
  },
  {
   "cell_type": "code",
   "execution_count": null,
   "id": "98cd75fa",
   "metadata": {},
   "outputs": [],
   "source": [
    "\n",
    "\n",
    "# 2.5 Diagnostic\n",
    "# Types de diagnostic\n",
    "print(\"\\nTypes de diagnostic :\")\n",
    "print(df['Diagnosis'].value_counts())\n",
    "\n",
    "# Visualisation des modes de diagnostic\n",
    "sns.countplot(data=df, y='Diagnosis', order=df['Diagnosis'].value_counts().index)\n",
    "plt.title(\"Modes de diagnostic\")\n",
    "plt.show()\n"
   ]
  },
  {
   "cell_type": "code",
   "execution_count": null,
   "id": "993e09b9",
   "metadata": {},
   "outputs": [],
   "source": [
    "# 2.6 Morphologie tumorale\n",
    "# Types de morphologie tumorale (top 10)\n",
    "print(\"\\nTypes de morphologie tumorale :\")\n",
    "print(df['Morphology'].value_counts().head(10))\n",
    "\n",
    "# Visualisation de la morphologie tumorale (top 10)\n",
    "plt.figure(figsize=(10,6))\n",
    "sns.countplot(data=df, y='Morphology', order=df['Morphology'].value_counts().iloc[:10].index)\n",
    "plt.title(\"Morphologie tumorale (top 10)\")\n",
    "plt.show()\n"
   ]
  },
  {
   "cell_type": "code",
   "execution_count": null,
   "id": "4e7c4c55",
   "metadata": {},
   "outputs": [],
   "source": [
    "\n",
    "\n",
    "# 2.7 Quadrant du sein affecté\n",
    "# Quadrants affectés\n",
    "print(\"\\nQuadrants affectés :\")\n",
    "print(df['Breast_quadrant'].value_counts())\n",
    "\n",
    "# Visualisation du quadrant mammaire affecté\n",
    "sns.countplot(data=df, y='Breast_quadrant', order=df['Breast_quadrant'].value_counts().index)\n",
    "plt.title(\"Quadrant mammaire affecté\")\n",
    "plt.show()\n"
   ]
  },
  {
   "cell_type": "code",
   "execution_count": null,
   "id": "ae047b37",
   "metadata": {},
   "outputs": [],
   "source": [
    "\n",
    "# 2.8 Différenciation tumorale\n",
    "# Niveaux de différenciation tumorale\n",
    "print(\"\\nNiveaux de différenciation tumorale :\")\n",
    "print(df['Tumour_differentiation'].value_counts())\n",
    "\n",
    "# Visualisation de la différenciation tumorale\n",
    "sns.countplot(data=df, x='Tumour_differentiation', order=df['Tumour_differentiation'].value_counts().index)\n",
    "plt.title(\"Différenciation tumorale\")\n",
    "plt.show()\n",
    "\n",
    "# 2.9 Religion et état matrimonial\n",
    "# Distribution de la religion\n",
    "print(\"\\nDistribution de la religion :\")\n",
    "print(df['Religion'].value_counts())\n"
   ]
  },
  {
   "cell_type": "code",
   "execution_count": null,
   "id": "252c9011",
   "metadata": {},
   "outputs": [],
   "source": [
    "\n",
    "# Religion\n",
    "plt.subplot(2, 3, 6)\n",
    "df['Religion'].value_counts().plot(kind='bar')\n",
    "plt.title('Répartition religieuse')\n",
    "plt.show()"
   ]
  },
  {
   "cell_type": "code",
   "execution_count": null,
   "id": "69cdd3c2",
   "metadata": {},
   "outputs": [],
   "source": [
    "# Tribe\n",
    "plt.subplot(2, 3, 5)\n",
    "df['Tribe'].value_counts().plot(kind='bar')\n",
    "plt.title('Répartition par tribu')\n",
    "plt.show()"
   ]
  },
  {
   "cell_type": "code",
   "execution_count": null,
   "id": "39c607dc",
   "metadata": {},
   "outputs": [],
   "source": [
    "df.columns \n"
   ]
  },
  {
   "cell_type": "markdown",
   "id": "1653ad6d",
   "metadata": {},
   "source": [
    "### Création de figures séparées pour chaque analyse bivariée\n"
   ]
  },
  {
   "cell_type": "code",
   "execution_count": null,
   "id": "ae519ec5",
   "metadata": {},
   "outputs": [],
   "source": [
    "\n",
    "\n",
    "# 1. Âge vs Statut vital\n",
    "# Visualisation de la distribution de l'âge en fonction du statut vital\n",
    "plt.figure(figsize=(6, 4))\n",
    "sns.boxplot(x='Status', y='Age', data=df)\n",
    "plt.title('Âge vs Statut vital')\n",
    "plt.show()\n"
   ]
  },
  {
   "cell_type": "code",
   "execution_count": null,
   "id": "1135a04b",
   "metadata": {},
   "outputs": [],
   "source": [
    "\n",
    "# 2. Traitement vs Statut vital\n",
    "# Visualisation de la relation entre le traitement et le statut vital\n",
    "plt.figure(figsize=(6, 4))\n",
    "sns.countplot(x='Treatment', hue='Status', data=df)\n",
    "plt.title('Traitement vs Statut vital')\n",
    "plt.xticks(rotation=45)\n",
    "plt.show()"
   ]
  },
  {
   "cell_type": "code",
   "execution_count": null,
   "id": "443b258c",
   "metadata": {},
   "outputs": [],
   "source": [
    "\n",
    "# 3. Tribu vs Traitement\n",
    "# Visualisation de la relation entre la tribu et le traitement\n",
    "plt.figure(figsize=(6, 4))\n",
    "sns.countplot(x='Tribe', hue='Treatment', data=df)\n",
    "plt.title('Tribu vs Traitement')\n",
    "plt.xticks(rotation=45)\n",
    "plt.show()"
   ]
  },
  {
   "cell_type": "code",
   "execution_count": null,
   "id": "fc3ea11b",
   "metadata": {},
   "outputs": [],
   "source": [
    "\n",
    "\n",
    "# 4. Tribu vs Diagnostic\n",
    "# Visualisation de la relation entre la tribu et le diagnostic\n",
    "plt.figure(figsize=(6, 4))\n",
    "sns.countplot(x='Tribe', hue='Diagnosis', data=df)\n",
    "plt.title('Tribu vs Diagnostic')\n",
    "plt.xticks(rotation=45)\n",
    "plt.show()"
   ]
  },
  {
   "cell_type": "code",
   "execution_count": null,
   "id": "c7b73650",
   "metadata": {},
   "outputs": [],
   "source": [
    "\n",
    "# 6. Éducation vs Type de traitement\n",
    "# Visualisation de la relation entre l'éducation et le type de traitement\n",
    "plt.figure(figsize=(6, 4))\n",
    "sns.countplot(x='Education', hue='Treatment', data=df)\n",
    "plt.title('Éducation vs Traitement')\n",
    "plt.xticks(rotation=45)\n",
    "plt.show()"
   ]
  },
  {
   "cell_type": "code",
   "execution_count": null,
   "id": "a84a0ee1",
   "metadata": {},
   "outputs": [],
   "source": [
    "\n",
    "\n",
    "# 7. Religion vs Type de traitement\n",
    "# Visualisation de la relation entre la religion et le type de traitement\n",
    "plt.figure(figsize=(6, 4))\n",
    "sns.countplot(x='Religion', hue='Treatment', data=df)\n",
    "plt.title('Religion vs Traitement')\n",
    "plt.xticks(rotation=45)\n",
    "plt.show()\n"
   ]
  },
  {
   "cell_type": "code",
   "execution_count": null,
   "id": "d2f9da8f",
   "metadata": {},
   "outputs": [],
   "source": [
    "\n",
    "# 8. Durée de suivi (en années) entre diagnostic et dernier contrôle\n",
    "# Visualisation de la distribution de la durée de suivi en années\n",
    "plt.figure(figsize=(6, 4))\n",
    "sns.histplot(df['years_diff'].dropna(), kde=True)\n",
    "plt.title('Durée de suivi (en années)')\n",
    "plt.xlabel('Années entre diagnostic et dernier contrôle')\n",
    "plt.show()"
   ]
  },
  {
   "cell_type": "code",
   "execution_count": null,
   "id": "0aadd5cd",
   "metadata": {},
   "outputs": [],
   "source": [
    "\n",
    "\n",
    "\n",
    "\n",
    "# 9. Statut marital vs Statut vital\n",
    "# Visualisation de la relation entre le statut marital et le statut vital\n",
    "plt.figure(figsize=(6, 4))\n",
    "sns.countplot(x='Marital_status', hue='Status', data=df)\n",
    "plt.title('Statut marital vs Statut vital')\n",
    "plt.xticks(rotation=45)\n",
    "plt.show()\n"
   ]
  },
  {
   "cell_type": "code",
   "execution_count": null,
   "id": "ae69d6ca",
   "metadata": {},
   "outputs": [],
   "source": [
    "\n",
    "# 5. Différenciation tumorale vs Morphologie\n",
    "plt.figure(figsize=(20, 14))\n",
    "sns.countplot(x='Tumour_differentiation', hue='Morphology', data=df)\n",
    "plt.title('Différenciation tumorale vs Morphologie')\n",
    "plt.xticks(rotation=45)\n",
    "plt.show()\n"
   ]
  },
  {
   "cell_type": "code",
   "execution_count": null,
   "id": "d529dedf",
   "metadata": {},
   "outputs": [],
   "source": []
  },
  {
   "cell_type": "code",
   "execution_count": null,
   "id": "69140f11",
   "metadata": {},
   "outputs": [],
   "source": [
    "\n",
    "# Créer une colonne d'année d'incidence\n",
    "# Extraction de l'année à partir de la date d'incidence\n",
    "df['Incidence_year'] = df['Date_of_incidence'].dt.year"
   ]
  },
  {
   "cell_type": "code",
   "execution_count": null,
   "id": "9b1d925f",
   "metadata": {},
   "outputs": [],
   "source": [
    "\n",
    "\n",
    "# Créer une colonne d'année de dernier suivi\n",
    "# Extraction de l'année à partir de la date du dernier suivi\n",
    "df['Last_check_year'] = df['Date_last_checked'].dt.year\n"
   ]
  },
  {
   "cell_type": "code",
   "execution_count": null,
   "id": "2ed55649",
   "metadata": {},
   "outputs": [],
   "source": [
    "\n",
    "# Créer une colonne de durée en jours et en années si ce n'est pas déjà fait\n",
    "# Calcul de la durée en jours entre la date d'incidence et la date du dernier suivi\n",
    "df['duration_days'] = (df['Date_last_checked'] - df['Date_of_incidence']).dt.days\n",
    "# Conversion de la durée en années\n",
    "df['duration_years'] = df['duration_days'] / 365.25\n"
   ]
  },
  {
   "cell_type": "code",
   "execution_count": null,
   "id": "373c6d82",
   "metadata": {},
   "outputs": [],
   "source": [
    "\n",
    "# Évolution dans le temps : nombre de cas par année\n",
    "# Visualisation du nombre de cas par année de diagnostic\n",
    "plt.figure(figsize=(10, 5))\n",
    "sns.countplot(data=df, x='Incidence_year', order=sorted(df['Incidence_year'].dropna().unique()))\n",
    "plt.title('Nombre de cas par année de diagnostic')\n",
    "plt.xticks(rotation=45)\n",
    "plt.tight_layout()\n",
    "plt.show()\n"
   ]
  },
  {
   "cell_type": "code",
   "execution_count": null,
   "id": "b7f86f05",
   "metadata": {},
   "outputs": [],
   "source": [
    "\n",
    "# Durée entre diagnostic et dernier suivi (distribuée)\n",
    "# Visualisation de la distribution de la durée entre le diagnostic et le dernier suivi en années\n",
    "plt.figure(figsize=(10, 5))\n",
    "sns.histplot(df['duration_years'].dropna(), bins=30, kde=True)\n",
    "plt.title(\"Durée entre le diagnostic et le dernier suivi (en années)\")\n",
    "plt.xlabel(\"Années\")\n",
    "plt.tight_layout()\n",
    "plt.show()"
   ]
  },
  {
   "cell_type": "code",
   "execution_count": null,
   "id": "f7e3e287",
   "metadata": {},
   "outputs": [],
   "source": [
    "\n",
    "\n",
    "# Mortalité par année (proportion de 'Dead' par année)\n",
    "# Calcul de la proportion de décès par année d'incidence\n",
    "mortality_by_year = df.groupby('Incidence_year')['Status'].value_counts(normalize=True).unstack().fillna(0)\n",
    "\n"
   ]
  },
  {
   "cell_type": "code",
   "execution_count": null,
   "id": "81c1652b",
   "metadata": {},
   "outputs": [],
   "source": [
    "# Visualisation du taux de mortalité par année d'incidence\n",
    "plt.figure(figsize=(10, 5))\n",
    "mortality_by_year['dead'].plot(kind='bar', color='tomato', label='Taux de mortalité')\n",
    "plt.ylabel(\"Proportion de décès\")\n",
    "plt.title(\"Taux de mortalité par année d'incidence\")\n",
    "plt.tight_layout()\n",
    "plt.show()\n"
   ]
  },
  {
   "cell_type": "code",
   "execution_count": null,
   "id": "45cd4a15",
   "metadata": {},
   "outputs": [],
   "source": [
    "print(df['Status'].unique())"
   ]
  },
  {
   "cell_type": "code",
   "execution_count": null,
   "id": "336eecf6",
   "metadata": {},
   "outputs": [],
   "source": [
    "df.columns"
   ]
  },
  {
   "cell_type": "code",
   "execution_count": null,
   "id": "3fb57747",
   "metadata": {},
   "outputs": [],
   "source": [
    "\n",
    "plt.figure(figsize=(12, 6))\n",
    "sns.countplot(data=df, x='Tribe', order=df['Tribe'].value_counts().index)\n",
    "plt.title(\"Nombre de cas par tribu\")\n",
    "plt.xticks(rotation=45)\n",
    "plt.tight_layout()\n",
    "plt.show()\n"
   ]
  },
  {
   "cell_type": "code",
   "execution_count": null,
   "id": "6b899b7a",
   "metadata": {},
   "outputs": [],
   "source": [
    "# Standardiser la colonne Status\n",
    "df['Status'] = df['Status'].str.strip().str.lower()\n",
    "\n",
    "# Taux de mortalité par tribu\n",
    "mortality_by_tribe = df.groupby('Tribe')['Status'].value_counts(normalize=True).unstack().fillna(0)\n",
    "\n",
    "if 'dead' in mortality_by_tribe.columns:\n",
    "    plt.figure(figsize=(12, 6))\n",
    "    mortality_by_tribe['dead'].plot(kind='bar', color='darkred')\n",
    "    plt.title(\"Taux de mortalité par tribu\")\n",
    "    plt.ylabel(\"Proportion de décès\")\n",
    "    plt.xticks(rotation=45)\n",
    "    plt.tight_layout()\n",
    "    plt.show()\n",
    "else:\n",
    "    print(\"La colonne 'dead' n'existe pas. Vérifie les valeurs de la colonne Status.\")\n"
   ]
  },
  {
   "cell_type": "code",
   "execution_count": null,
   "id": "98718c18",
   "metadata": {},
   "outputs": [],
   "source": [
    "plt.figure(figsize=(14, 6))\n",
    "sns.countplot(data=df, x='Tribe', hue='Treatment', order=df['Tribe'].value_counts().index)\n",
    "plt.title(\"Traitements reçus par tribu\")\n",
    "plt.xlabel(\"Tribu\")\n",
    "plt.ylabel(\"Nombre de patientes\")\n",
    "plt.xticks(rotation=45)\n",
    "plt.legend(title='Traitement')\n",
    "plt.tight_layout()\n",
    "plt.show()\n"
   ]
  },
  {
   "cell_type": "code",
   "execution_count": null,
   "id": "bd34fa17",
   "metadata": {},
   "outputs": [],
   "source": [
    "plt.figure(figsize=(14, 6))\n",
    "sns.countplot(data=df, x='Tribe', hue='Diagnosis', order=df['Tribe'].value_counts().index)\n",
    "plt.title(\"Diagnostic par tribu\")\n",
    "plt.xlabel(\"Tribu\")\n",
    "plt.ylabel(\"Nombre de patientes\")\n",
    "plt.xticks(rotation=45)\n",
    "plt.legend(title='Diagnostic')\n",
    "plt.tight_layout()\n",
    "plt.show()\n"
   ]
  },
  {
   "cell_type": "code",
   "execution_count": null,
   "id": "1d31421b",
   "metadata": {},
   "outputs": [],
   "source": [
    "df.columns"
   ]
  },
  {
   "cell_type": "code",
   "execution_count": null,
   "id": "ecd0956b",
   "metadata": {},
   "outputs": [],
   "source": [
    "# Statut en minuscules (normalisation)\n",
    "df['Status'] = df['Status'].str.lower().str.strip()\n",
    "\n",
    "# Distribution des statuts par tribu\n",
    "status_by_tribe = df.groupby('Tribe')['Status'].value_counts(normalize=True).unstack().fillna(0)\n",
    "\n",
    "# Affichage du taux de mortalité\n",
    "status_by_tribe[['alive', 'dead']].plot(kind='bar', stacked=True, figsize=(12, 6), colormap='coolwarm')\n",
    "plt.title(\"Distribution Alive vs Dead par tribu (équilibre des classes)\")\n",
    "plt.ylabel(\"Proportion\")\n",
    "plt.xlabel(\"Tribu\")\n",
    "plt.xticks(rotation=45)\n",
    "plt.legend(title='Statut')\n",
    "plt.tight_layout()\n",
    "plt.show()\n"
   ]
  },
  {
   "cell_type": "code",
   "execution_count": null,
   "id": "da46f139",
   "metadata": {},
   "outputs": [],
   "source": [
    "sensitive_variables = ['Tribe', 'Religion', 'Education', 'Marital_status']\n",
    "print(\"🔐 Variables sensibles détectées :\")\n",
    "for var in sensitive_variables:\n",
    "    print(f\" - {var}\")\n"
   ]
  },
  {
   "cell_type": "code",
   "execution_count": null,
   "id": "ad3c24ee",
   "metadata": {},
   "outputs": [],
   "source": [
    "age_by_tribe = df.groupby('Tribe')['Age'].mean().sort_values()\n",
    "age_by_tribe.plot(kind='barh', figsize=(10, 6), color='skyblue')\n",
    "plt.title(\"Âge moyen par tribu (variation inter-silos)\")\n",
    "plt.xlabel(\"Âge moyen\")\n",
    "plt.tight_layout()\n",
    "plt.show()\n"
   ]
  },
  {
   "cell_type": "code",
   "execution_count": null,
   "id": "9233dccb",
   "metadata": {},
   "outputs": [],
   "source": [
    "major_treatment = df.groupby('Tribe')['Treatment'].agg(lambda x: x.value_counts().index[0])\n",
    "print(\"Traitement le plus fréquent par tribu :\\n\", major_treatment)\n"
   ]
  },
  {
   "cell_type": "code",
   "execution_count": null,
   "id": "dc3161d1",
   "metadata": {},
   "outputs": [],
   "source": []
  }
 ],
 "metadata": {
  "kernelspec": {
   "display_name": ".venv",
   "language": "python",
   "name": "python3"
  },
  "language_info": {
   "codemirror_mode": {
    "name": "ipython",
    "version": 3
   },
   "file_extension": ".py",
   "mimetype": "text/x-python",
   "name": "python",
   "nbconvert_exporter": "python",
   "pygments_lexer": "ipython3",
   "version": "3.12.3"
  }
 },
 "nbformat": 4,
 "nbformat_minor": 5
}
